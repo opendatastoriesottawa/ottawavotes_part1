{
 "cells": [
  {
   "cell_type": "code",
   "execution_count": null,
   "metadata": {
    "collapsed": true
   },
   "outputs": [],
   "source": [
    "import numpy as np\n",
    "import pandas as pd\n",
    "import matplotlib.pyplot as plt\n",
    "import seaborn as sns\n",
    "\n",
    "%matplotlib inline"
   ]
  },
  {
   "cell_type": "code",
   "execution_count": null,
   "metadata": {
    "collapsed": true
   },
   "outputs": [],
   "source": [
    "votes2010 = pd.read_excel(\"votes2010.xlsx\")"
   ]
  },
  {
   "cell_type": "code",
   "execution_count": null,
   "metadata": {
    "collapsed": true
   },
   "outputs": [],
   "source": [
    "votes2014 = pd.read_excel(\"votes2014.xlsx\")"
   ]
  },
  {
   "cell_type": "code",
   "execution_count": null,
   "metadata": {
    "collapsed": true
   },
   "outputs": [],
   "source": [
    "#difference of 100 rows less in 2014 than 2010\n",
    "#create 2010 total dataset\n",
    "votes2010_ttl = votes2010.loc[(votes2010['Location']==\"Total\")]"
   ]
  },
  {
   "cell_type": "code",
   "execution_count": null,
   "metadata": {},
   "outputs": [],
   "source": [
    "#what is the sum of total votes in 2010?\n",
    "ttl_votes2010 = votes2010_ttl['Total Votes'].sum()\n",
    "ttl_votes2010"
   ]
  },
  {
   "cell_type": "code",
   "execution_count": null,
   "metadata": {},
   "outputs": [],
   "source": [
    "#that doesn't look like much. what's the total number of registered voters?\n",
    "ttl_reg2010 = votes2010_ttl['Reg. Voters'].sum()\n",
    "ttl_reg2010"
   ]
  },
  {
   "cell_type": "code",
   "execution_count": null,
   "metadata": {},
   "outputs": [],
   "source": [
    "#okay. So less than 50% of registered voters cast their votes in 2010\n",
    "#how about for 2014?\n",
    "votes2014_ttl = votes2014.loc[(votes2014['Location']==\"Total\")]\n",
    "ttl_reg2014 = votes2014_ttl['Registered Voters'].sum()\n",
    "ttl_votes2014 = votes2014_ttl['Total Votes'].sum()\n",
    "ttl_votes2014"
   ]
  },
  {
   "cell_type": "code",
   "execution_count": null,
   "metadata": {
    "collapsed": true
   },
   "outputs": [],
   "source": [
    "#here, I have coded a function to do the same as above\n",
    "#If we had a longer series of vote files, I would rather use something along these lines to check the numbers out\n",
    "#With elections coming soon, maybe it can be put to use in the near future\n",
    "def total_pct_votes(year, df, regvot):\n",
    "    dfttl = df.loc[(df['Location']==\"Total\")]\n",
    "    totalvotes = dfttl['Total Votes'].sum()\n",
    "    totalreg = dfttl[regvot].sum()\n",
    "    total_pct_votes = (totalvotes/totalreg) * 100\n",
    "    print(total_pct_votes)\n",
    "    return"
   ]
  },
  {
   "cell_type": "code",
   "execution_count": null,
   "metadata": {},
   "outputs": [],
   "source": [
    "ttl2010 = total_pct_votes(2010, votes2010, \"Reg. Voters\")"
   ]
  },
  {
   "cell_type": "code",
   "execution_count": null,
   "metadata": {},
   "outputs": [],
   "source": [
    "ttl2014 = total_pct_votes(2014, votes2014, \"Registered Voters\")"
   ]
  },
  {
   "cell_type": "code",
   "execution_count": null,
   "metadata": {},
   "outputs": [],
   "source": [
    "#let's take a peek at 2010/2014 percentage by ward breakdown\n",
    "votes2010_ttl['ttl_pct'] = (votes2010_ttl['Total Votes'] / votes2010_ttl['Reg. Voters']) *100\n",
    "votes2010_ttl['Year'] = 2010\n",
    "votes2010_ttl"
   ]
  },
  {
   "cell_type": "code",
   "execution_count": null,
   "metadata": {},
   "outputs": [],
   "source": [
    "votes2014_ttl['ttl_pct'] = (votes2014_ttl['Total Votes'] / votes2014_ttl['Registered Voters']) *100\n",
    "votes2014_ttl['Year'] = 2014\n",
    "votes2014_ttl"
   ]
  },
  {
   "cell_type": "code",
   "execution_count": null,
   "metadata": {},
   "outputs": [],
   "source": [
    "#merge horizontally\n",
    "#vote_pcts = pd.merge(votes2010_ttl, votes2014_ttl, left_on='Ward', right_on='Ward', suffixes=('_2010', '_2014'))\n",
    "#vote_pcts\n",
    "#have to merge vertically, not horizontally\n",
    "vote_pcts = pd.concat([votes2010_ttl, votes2014_ttl])\n",
    "vote_pcts"
   ]
  },
  {
   "cell_type": "code",
   "execution_count": null,
   "metadata": {},
   "outputs": [],
   "source": [
    "#okay, let's see the percent breakdowns graphically\n",
    "sns.barplot(x='Ward',y='ttl_pct', hue='Year', data=vote_pcts.loc[(vote_pcts['Ward']<=13) & (vote_pcts['Ward']!=0)])"
   ]
  },
  {
   "cell_type": "code",
   "execution_count": null,
   "metadata": {},
   "outputs": [],
   "source": [
    "sns.barplot(x='Ward',y='ttl_pct', hue='Year', data=vote_pcts.loc[(vote_pcts['Ward']>13)])"
   ]
  },
  {
   "cell_type": "code",
   "execution_count": null,
   "metadata": {},
   "outputs": [],
   "source": [
    "#hmm. on the whole, it looks like 2010 had better percentages across the board\n",
    "#next, I'd like to break the votes down for the winner of both elections, Jim Watson, as compared to his competition\n",
    "#we can use the datasets from the previous step, but break JW vs Competition down\n",
    "votes2010_ttl.columns.tolist()"
   ]
  },
  {
   "cell_type": "code",
   "execution_count": null,
   "metadata": {},
   "outputs": [],
   "source": [
    "col_list= list(votes2010_ttl)\n",
    "col_list.remove('Ward')\n",
    "col_list.remove('Location')\n",
    "col_list.remove('Reg. Voters')\n",
    "col_list.remove('Total Votes')\n",
    "col_list.remove('Jim Watson')\n",
    "col_list.remove('ttl_pct')\n",
    "col_list.remove('Year')\n",
    "col_list"
   ]
  },
  {
   "cell_type": "code",
   "execution_count": null,
   "metadata": {},
   "outputs": [],
   "source": [
    "votes2010_ttl['Competition'] = votes2010_ttl[col_list].sum(axis=1)\n",
    "votes2010_ttl['JW_PCT'] = (votes2010_ttl['Jim Watson'] / votes2010_ttl['Total Votes'] ) * 100\n",
    "votes2010_ttl['Competition_PCT'] = (votes2010_ttl['Competition'] / votes2010_ttl['Total Votes']) * 100\n",
    "votes2010_ttl"
   ]
  },
  {
   "cell_type": "code",
   "execution_count": null,
   "metadata": {},
   "outputs": [],
   "source": [
    "votes2014_ttl.columns.tolist()"
   ]
  },
  {
   "cell_type": "code",
   "execution_count": null,
   "metadata": {},
   "outputs": [],
   "source": [
    "col_list= list(votes2014_ttl)\n",
    "col_list.remove('Import')\n",
    "col_list.remove('Ward')\n",
    "col_list.remove('Location')\n",
    "col_list.remove('Registered Voters')\n",
    "col_list.remove('Total Votes')\n",
    "col_list.remove('Jim Watson\\n ')\n",
    "col_list.remove('ttl_pct')\n",
    "col_list.remove('Year')\n",
    "col_list"
   ]
  },
  {
   "cell_type": "code",
   "execution_count": null,
   "metadata": {},
   "outputs": [],
   "source": [
    "votes2014_ttl['Competition'] = votes2014_ttl[col_list].sum(axis=1)\n",
    "votes2014_ttl['JW_PCT'] = (votes2014_ttl['Jim Watson\\n '] / votes2014_ttl['Total Votes']) * 100\n",
    "votes2014_ttl['Competition_PCT'] = (votes2014_ttl['Competition'] / votes2014_ttl['Total Votes']) * 100\n",
    "votes2014_ttl"
   ]
  },
  {
   "cell_type": "code",
   "execution_count": null,
   "metadata": {},
   "outputs": [],
   "source": [
    "#okay, lets put these together and check out JW vs his competition over the 2 elections\n",
    "jw_vote_pcts = pd.concat([votes2010_ttl, votes2014_ttl])\n",
    "jw_vote_pcts"
   ]
  },
  {
   "cell_type": "code",
   "execution_count": null,
   "metadata": {},
   "outputs": [],
   "source": [
    "#okay, let's see the percent breakdowns graphically\n",
    "sns.barplot(x='Ward',y='JW_PCT', hue='Year', data=jw_vote_pcts.loc[(vote_pcts['Ward']<=13) & (vote_pcts['Ward']!=0)])"
   ]
  },
  {
   "cell_type": "code",
   "execution_count": null,
   "metadata": {},
   "outputs": [],
   "source": [
    "sns.barplot(x='Ward',y='JW_PCT', hue='Year', data=jw_vote_pcts.loc[(vote_pcts['Ward']>13)])"
   ]
  },
  {
   "cell_type": "code",
   "execution_count": null,
   "metadata": {
    "collapsed": true
   },
   "outputs": [],
   "source": [
    "#okay wow, Jim went beast mode in 2014"
   ]
  },
  {
   "cell_type": "code",
   "execution_count": null,
   "metadata": {
    "collapsed": true
   },
   "outputs": [],
   "source": [
    "#I am going to plot polling locations, on a graph of registered vs actual votes, to determine where they can be located.\n",
    "#for this, I will remove any advanced polling booths, as they do not have data on registered voters\n",
    "votes2010_noadv = votes2010.loc[(~votes2010[\"Location\"].str.contains(\"Adv\"))]\n",
    "votes2010_noadv = votes2010_noadv.loc[(~votes2010_noadv[\"Location\"].str.contains(\"Polling\"))]\n",
    "votes2010_noadv = votes2010_noadv.loc[(~votes2010_noadv[\"Location\"].str.contains(\"Total\"))]\n",
    "votes2010_noadv['poll_pct'] = (votes2010_noadv['Total Votes'] / votes2010_noadv['Reg. Voters']) * 100\n",
    "votes2014_noadv = votes2014.loc[(~votes2014[\"Import\"].str.contains(\"Adv\"))]\n",
    "votes2014_noadv = votes2014_noadv.loc[(~votes2014_noadv[\"Import\"].str.contains(\"Total\"))]\n",
    "votes2014_noadv['poll_pct'] = (votes2014_noadv['Total Votes'] / votes2014_noadv['Registered Voters']) * 100"
   ]
  },
  {
   "cell_type": "code",
   "execution_count": null,
   "metadata": {},
   "outputs": [],
   "source": [
    "#count of poll booths in 2010\n",
    "votes2010_noadv.info()"
   ]
  },
  {
   "cell_type": "code",
   "execution_count": null,
   "metadata": {},
   "outputs": [],
   "source": [
    "#count of poll booths in 2014\n",
    "votes2014_noadv.info()"
   ]
  },
  {
   "cell_type": "code",
   "execution_count": null,
   "metadata": {},
   "outputs": [],
   "source": [
    "sns.lmplot( x=\"Total Votes\", y=\"Reg. Voters\", data=votes2010_noadv, fit_reg=False, hue='Ward')"
   ]
  },
  {
   "cell_type": "code",
   "execution_count": null,
   "metadata": {},
   "outputs": [],
   "source": [
    "sns.lmplot( x=\"Total Votes\", y=\"Registered Voters\", data=votes2014_noadv, fit_reg=False, hue='Ward')"
   ]
  },
  {
   "cell_type": "code",
   "execution_count": null,
   "metadata": {},
   "outputs": [],
   "source": [
    "#map percentage of votes by the poll location, where registered voters bigger than 0 and no percentages are above 100\n",
    "sns.lmplot( x=\"Reg. Voters\", y=\"poll_pct\", data=votes2010_noadv.loc[(votes2010_noadv[\"poll_pct\"] <= 100) & (votes2010_noadv[\"Reg. Voters\"] > 0)], fit_reg=False, hue='Ward')"
   ]
  },
  {
   "cell_type": "code",
   "execution_count": null,
   "metadata": {},
   "outputs": [],
   "source": [
    "sns.lmplot( x=\"Registered Voters\", y=\"poll_pct\", data=votes2014_noadv.loc[(votes2014_noadv[\"poll_pct\"] <= 100) & (votes2014_noadv[\"Registered Voters\"] > 0)], fit_reg=False, hue='Ward')"
   ]
  },
  {
   "cell_type": "code",
   "execution_count": null,
   "metadata": {
    "collapsed": true
   },
   "outputs": [],
   "source": []
  }
 ],
 "metadata": {
  "kernelspec": {
   "display_name": "Python 3",
   "language": "python",
   "name": "python3"
  },
  "language_info": {
   "codemirror_mode": {
    "name": "ipython",
    "version": 3
   },
   "file_extension": ".py",
   "mimetype": "text/x-python",
   "name": "python",
   "nbconvert_exporter": "python",
   "pygments_lexer": "ipython3",
   "version": "3.6.3"
  }
 },
 "nbformat": 4,
 "nbformat_minor": 2
}
